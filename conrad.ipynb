{
 "cells": [
  {
   "cell_type": "markdown",
   "metadata": {},
   "source": [
    "### 1. Import modules"
   ]
  },
  {
   "cell_type": "code",
   "execution_count": 1,
   "metadata": {},
   "outputs": [],
   "source": [
    "from datetime import datetime\n",
    "import matplotlib.pyplot as plt\n",
    "import numpy as np\n",
    "import pandas as pd\n",
    "from sklearn.metrics import classification_report, ConfusionMatrixDisplay\n",
    "from sklearn.model_selection import RandomizedSearchCV, train_test_split\n",
    "from sklearn.pipeline import make_pipeline, Pipeline\n",
    "from sklearn.preprocessing import MinMaxScaler, StandardScaler\n",
    "from sklearn.svm import SVC"
   ]
  },
  {
   "cell_type": "markdown",
   "metadata": {},
   "source": [
    "### 2. Data preprocessing functions"
   ]
  },
  {
   "cell_type": "code",
   "execution_count": 2,
   "metadata": {},
   "outputs": [],
   "source": [
    "def create_date_stamp(date_string: str) -> int:\n",
    "    y = date_string.split(\"/\")[-1]\n",
    "\n",
    "    if len(y) == 4:\n",
    "        t = datetime.strptime(date_string, \"%d/%m/%Y\").timestamp()\n",
    "    else:\n",
    "        t = datetime.strptime(date_string, \"%d/%m/%y\").timestamp()\n",
    "\n",
    "    return int(t)\n",
    "\n",
    "\n",
    "def split_into_seasons(df):\n",
    "    ..."
   ]
  },
  {
   "cell_type": "markdown",
   "metadata": {},
   "source": [
    "### 3. Load training and testing data"
   ]
  },
  {
   "cell_type": "code",
   "execution_count": 3,
   "metadata": {},
   "outputs": [],
   "source": [
    "# Load datasets\n",
    "present_data = pd.read_csv(\"data/epl-training.csv\")\n",
    "future_data = pd.read_csv(\"data/epl-test.csv\")\n",
    "\n",
    "\n",
    "# Format data\n",
    "def create_onehot(name, df):\n",
    "    df = pd.get_dummies(df[name], drop_first=True)\n",
    "    df.columns = df.columns.map(lambda s : f\"{name}({s})\")\n",
    "\n",
    "    return df\n",
    "\n",
    "\n",
    "home_team_df = create_onehot(\"HomeTeam\", present_data)\n",
    "away_team_df = create_onehot(\"AwayTeam\", present_data)\n",
    "referee_df = create_onehot(\"Referee\", present_data)\n",
    "\n",
    "y = present_data[\"FTR\"]\n",
    "X = present_data[[\"DateStamp\"]].join(home_team_df).join(away_team_df).join(referee_df)\n",
    "\n",
    "target_names = [\"A\", \"D\", \"H\"] # alphabetised label names, for metrics\n",
    "\n",
    "# Split\n",
    "X_train, X_test, y_train, y_test = train_test_split(X, y, test_size=0.2, random_state=42)"
   ]
  },
  {
   "cell_type": "markdown",
   "metadata": {},
   "source": [
    "### 4. Create SVM model\n",
    "\n",
    "Specifically, we are going to fit our model to our data and then predict the testing results"
   ]
  },
  {
   "cell_type": "code",
   "execution_count": 4,
   "metadata": {},
   "outputs": [],
   "source": [
    "clf = make_pipeline(MinMaxScaler(), SVC(probability=False))\n",
    "clf.fit(X=X_train, y=y_train)\n",
    "\n",
    "y_pred = clf.predict(X_test)"
   ]
  },
  {
   "cell_type": "markdown",
   "metadata": {},
   "source": [
    "### 5. Get performance metrics\n",
    "\n",
    "We're going to print a classification report and print some graphs and charts now"
   ]
  },
  {
   "cell_type": "code",
   "execution_count": 5,
   "metadata": {},
   "outputs": [
    {
     "name": "stdout",
     "output_type": "stream",
     "text": [
      "              precision    recall  f1-score   support\n",
      "\n",
      "           A       0.54      0.44      0.49       516\n",
      "           D       0.28      0.03      0.05       460\n",
      "           H       0.52      0.86      0.65       792\n",
      "\n",
      "    accuracy                           0.52      1768\n",
      "   macro avg       0.45      0.44      0.39      1768\n",
      "weighted avg       0.46      0.52      0.45      1768\n",
      "\n"
     ]
    },
    {
     "data": {
      "image/png": "[encoded data removed]",
      "text/plain": [
       "<Figure size 640x480 with 2 Axes>"
      ]
     },
     "metadata": {},
     "output_type": "display_data"
    }
   ],
   "source": [
    "def evaluate_model(y_test, y_pred, target_names):\n",
    "    print(classification_report(y_test, y_pred, target_names=target_names))\n",
    "\n",
    "    ConfusionMatrixDisplay.from_predictions(y_test, y_pred, display_labels=target_names)\n",
    "    plt.tight_layout()\n",
    "    plt.show()\n",
    "\n",
    "\n",
    "evaluate_model(y_test, y_pred, target_names)"
   ]
  }
 ],
 "metadata": {
  "kernelspec": {
   "display_name": "venv",
   "language": "python",
   "name": "python3"
  },
  "language_info": {
   "codemirror_mode": {
    "name": "ipython",
    "version": 3
   },
   "file_extension": ".py",
   "mimetype": "text/x-python",
   "name": "python",
   "nbconvert_exporter": "python",
   "pygments_lexer": "ipython3",
   "version": "3.11.0rc1"
  }
 },
 "nbformat": 4,
 "nbformat_minor": 2
}
