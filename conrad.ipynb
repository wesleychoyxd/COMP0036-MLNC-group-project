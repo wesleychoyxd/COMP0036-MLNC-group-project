{
 "cells": [
  {
   "cell_type": "markdown",
   "metadata": {},
   "source": [
    "## Import modules"
   ]
  },
  {
   "cell_type": "code",
   "execution_count": 13,
   "metadata": {},
   "outputs": [],
   "source": [
    "from collections import deque\n",
    "from datetime import datetime\n",
    "import matplotlib.pyplot as plt\n",
    "import numpy as np\n",
    "import pandas as pd\n",
    "import requests\n",
    "from sklearn.compose import ColumnTransformer\n",
    "from sklearn.metrics import classification_report, ConfusionMatrixDisplay\n",
    "from sklearn.model_selection import RandomizedSearchCV, train_test_split\n",
    "from sklearn.pipeline import make_pipeline, Pipeline\n",
    "from sklearn.preprocessing import StandardScaler, OneHotEncoder, LabelEncoder\n",
    "from sklearn.svm import SVC"
   ]
  },
  {
   "cell_type": "markdown",
   "metadata": {},
   "source": [
    "## Download attendance data"
   ]
  },
  {
   "cell_type": "code",
   "execution_count": 16,
   "metadata": {},
   "outputs": [
    {
     "ename": "JSONDecodeError",
     "evalue": "Expecting value: line 1 column 1 (char 0)",
     "output_type": "error",
     "traceback": [
      "\u001b[0;31m---------------------------------------------------------------------------\u001b[0m",
      "\u001b[0;31mJSONDecodeError\u001b[0m                           Traceback (most recent call last)",
      "File \u001b[0;32m~/UCL/Modules/COMP0036-ML/Coursework/.venv/lib/python3.11/site-packages/requests/models.py:971\u001b[0m, in \u001b[0;36mResponse.json\u001b[0;34m(self, **kwargs)\u001b[0m\n\u001b[1;32m    970\u001b[0m \u001b[39mtry\u001b[39;00m:\n\u001b[0;32m--> 971\u001b[0m     \u001b[39mreturn\u001b[39;00m complexjson\u001b[39m.\u001b[39;49mloads(\u001b[39mself\u001b[39;49m\u001b[39m.\u001b[39;49mtext, \u001b[39m*\u001b[39;49m\u001b[39m*\u001b[39;49mkwargs)\n\u001b[1;32m    972\u001b[0m \u001b[39mexcept\u001b[39;00m JSONDecodeError \u001b[39mas\u001b[39;00m e:\n\u001b[1;32m    973\u001b[0m     \u001b[39m# Catch JSON-related errors and raise as requests.JSONDecodeError\u001b[39;00m\n\u001b[1;32m    974\u001b[0m     \u001b[39m# This aliases json.JSONDecodeError and simplejson.JSONDecodeError\u001b[39;00m\n",
      "File \u001b[0;32m/usr/lib/python3.11/json/__init__.py:346\u001b[0m, in \u001b[0;36mloads\u001b[0;34m(s, cls, object_hook, parse_float, parse_int, parse_constant, object_pairs_hook, **kw)\u001b[0m\n\u001b[1;32m    343\u001b[0m \u001b[39mif\u001b[39;00m (\u001b[39mcls\u001b[39m \u001b[39mis\u001b[39;00m \u001b[39mNone\u001b[39;00m \u001b[39mand\u001b[39;00m object_hook \u001b[39mis\u001b[39;00m \u001b[39mNone\u001b[39;00m \u001b[39mand\u001b[39;00m\n\u001b[1;32m    344\u001b[0m         parse_int \u001b[39mis\u001b[39;00m \u001b[39mNone\u001b[39;00m \u001b[39mand\u001b[39;00m parse_float \u001b[39mis\u001b[39;00m \u001b[39mNone\u001b[39;00m \u001b[39mand\u001b[39;00m\n\u001b[1;32m    345\u001b[0m         parse_constant \u001b[39mis\u001b[39;00m \u001b[39mNone\u001b[39;00m \u001b[39mand\u001b[39;00m object_pairs_hook \u001b[39mis\u001b[39;00m \u001b[39mNone\u001b[39;00m \u001b[39mand\u001b[39;00m \u001b[39mnot\u001b[39;00m kw):\n\u001b[0;32m--> 346\u001b[0m     \u001b[39mreturn\u001b[39;00m _default_decoder\u001b[39m.\u001b[39;49mdecode(s)\n\u001b[1;32m    347\u001b[0m \u001b[39mif\u001b[39;00m \u001b[39mcls\u001b[39m \u001b[39mis\u001b[39;00m \u001b[39mNone\u001b[39;00m:\n",
      "File \u001b[0;32m/usr/lib/python3.11/json/decoder.py:337\u001b[0m, in \u001b[0;36mJSONDecoder.decode\u001b[0;34m(self, s, _w)\u001b[0m\n\u001b[1;32m    333\u001b[0m \u001b[39m\u001b[39m\u001b[39m\"\"\"Return the Python representation of ``s`` (a ``str`` instance\u001b[39;00m\n\u001b[1;32m    334\u001b[0m \u001b[39mcontaining a JSON document).\u001b[39;00m\n\u001b[1;32m    335\u001b[0m \n\u001b[1;32m    336\u001b[0m \u001b[39m\"\"\"\u001b[39;00m\n\u001b[0;32m--> 337\u001b[0m obj, end \u001b[39m=\u001b[39m \u001b[39mself\u001b[39;49m\u001b[39m.\u001b[39;49mraw_decode(s, idx\u001b[39m=\u001b[39;49m_w(s, \u001b[39m0\u001b[39;49m)\u001b[39m.\u001b[39;49mend())\n\u001b[1;32m    338\u001b[0m end \u001b[39m=\u001b[39m _w(s, end)\u001b[39m.\u001b[39mend()\n",
      "File \u001b[0;32m/usr/lib/python3.11/json/decoder.py:355\u001b[0m, in \u001b[0;36mJSONDecoder.raw_decode\u001b[0;34m(self, s, idx)\u001b[0m\n\u001b[1;32m    354\u001b[0m \u001b[39mexcept\u001b[39;00m \u001b[39mStopIteration\u001b[39;00m \u001b[39mas\u001b[39;00m err:\n\u001b[0;32m--> 355\u001b[0m     \u001b[39mraise\u001b[39;00m JSONDecodeError(\u001b[39m\"\u001b[39m\u001b[39mExpecting value\u001b[39m\u001b[39m\"\u001b[39m, s, err\u001b[39m.\u001b[39mvalue) \u001b[39mfrom\u001b[39;00m \u001b[39mNone\u001b[39;00m\n\u001b[1;32m    356\u001b[0m \u001b[39mreturn\u001b[39;00m obj, end\n",
      "\u001b[0;31mJSONDecodeError\u001b[0m: Expecting value: line 1 column 1 (char 0)",
      "\nDuring handling of the above exception, another exception occurred:\n",
      "\u001b[0;31mJSONDecodeError\u001b[0m                           Traceback (most recent call last)",
      "\u001b[1;32m/home/conrad/UCL/Modules/COMP0036-ML/Coursework/conrad.ipynb Cell 4\u001b[0m line \u001b[0;36m1\n\u001b[1;32m      <a href='vscode-notebook-cell:/home/conrad/UCL/Modules/COMP0036-ML/Coursework/conrad.ipynb#X25sZmlsZQ%3D%3D?line=3'>4</a>\u001b[0m headers \u001b[39m=\u001b[39m {\n\u001b[1;32m      <a href='vscode-notebook-cell:/home/conrad/UCL/Modules/COMP0036-ML/Coursework/conrad.ipynb#X25sZmlsZQ%3D%3D?line=4'>5</a>\u001b[0m \t\u001b[39m\"\u001b[39m\u001b[39mX-RapidAPI-Key\u001b[39m\u001b[39m\"\u001b[39m: \u001b[39m\"\u001b[39m\u001b[39m98d4518235msh80457a96c4436b3p14cfa9jsn9ae1ee4da312\u001b[39m\u001b[39m\"\u001b[39m,\n\u001b[1;32m      <a href='vscode-notebook-cell:/home/conrad/UCL/Modules/COMP0036-ML/Coursework/conrad.ipynb#X25sZmlsZQ%3D%3D?line=5'>6</a>\u001b[0m \t\u001b[39m\"\u001b[39m\u001b[39mX-RapidAPI-Host\u001b[39m\u001b[39m\"\u001b[39m: \u001b[39m\"\u001b[39m\u001b[39mfootball-web-pages1.p.rapidapi.com\u001b[39m\u001b[39m\"\u001b[39m\n\u001b[1;32m      <a href='vscode-notebook-cell:/home/conrad/UCL/Modules/COMP0036-ML/Coursework/conrad.ipynb#X25sZmlsZQ%3D%3D?line=6'>7</a>\u001b[0m }\n\u001b[1;32m      <a href='vscode-notebook-cell:/home/conrad/UCL/Modules/COMP0036-ML/Coursework/conrad.ipynb#X25sZmlsZQ%3D%3D?line=8'>9</a>\u001b[0m response \u001b[39m=\u001b[39m requests\u001b[39m.\u001b[39mget(url, headers\u001b[39m=\u001b[39mheaders)\u001b[39m# params=querystring)\u001b[39;00m\n\u001b[0;32m---> <a href='vscode-notebook-cell:/home/conrad/UCL/Modules/COMP0036-ML/Coursework/conrad.ipynb#X25sZmlsZQ%3D%3D?line=10'>11</a>\u001b[0m \u001b[39mprint\u001b[39m(response\u001b[39m.\u001b[39;49mjson())\n",
      "File \u001b[0;32m~/UCL/Modules/COMP0036-ML/Coursework/.venv/lib/python3.11/site-packages/requests/models.py:975\u001b[0m, in \u001b[0;36mResponse.json\u001b[0;34m(self, **kwargs)\u001b[0m\n\u001b[1;32m    971\u001b[0m     \u001b[39mreturn\u001b[39;00m complexjson\u001b[39m.\u001b[39mloads(\u001b[39mself\u001b[39m\u001b[39m.\u001b[39mtext, \u001b[39m*\u001b[39m\u001b[39m*\u001b[39mkwargs)\n\u001b[1;32m    972\u001b[0m \u001b[39mexcept\u001b[39;00m JSONDecodeError \u001b[39mas\u001b[39;00m e:\n\u001b[1;32m    973\u001b[0m     \u001b[39m# Catch JSON-related errors and raise as requests.JSONDecodeError\u001b[39;00m\n\u001b[1;32m    974\u001b[0m     \u001b[39m# This aliases json.JSONDecodeError and simplejson.JSONDecodeError\u001b[39;00m\n\u001b[0;32m--> 975\u001b[0m     \u001b[39mraise\u001b[39;00m RequestsJSONDecodeError(e\u001b[39m.\u001b[39mmsg, e\u001b[39m.\u001b[39mdoc, e\u001b[39m.\u001b[39mpos)\n",
      "\u001b[0;31mJSONDecodeError\u001b[0m: Expecting value: line 1 column 1 (char 0)"
     ]
    }
   ],
   "source": [
    "url = \"https://football-web-pages1.p.rapidapi.com/attendances.json\"\n",
    "querystring = {}\n",
    "\n",
    "headers = {\n",
    "\t\"X-RapidAPI-Key\": \"...\",\n",
    "\t\"X-RapidAPI-Host\": \"football-web-pages1.p.rapidapi.com\"\n",
    "}\n",
    "\n",
    "response = requests.get(url, headers=headers)# params=querystring)\n",
    "\n",
    "print(response.json())"
   ]
  },
  {
   "cell_type": "markdown",
   "metadata": {},
   "source": [
    "## Data preprocessing functions\n",
    "\n",
    "This includes\n",
    "- Converting dates to timestamps\n",
    "- Calculating all the Gustas things for the previous _n_ games"
   ]
  },
  {
   "cell_type": "code",
   "execution_count": 3,
   "metadata": {},
   "outputs": [],
   "source": [
    "METRICS = {\n",
    "    \"GoalsFullTime\": (\"FTHG\", \"FTAG\"),\n",
    "    \"GoalsHalfTime\": (\"HTHG\", \"HTAG\"),\n",
    "    \"GustasPoints\":  (\"HomePoints\", \"AwayPoints\"),\n",
    "    \"GoalShots\":     (\"HS\",   \"AS\"),\n",
    "    \"TargetShots\":   (\"HST\",  \"AST\"),\n",
    "    \"Fouls\":         (\"HF\",   \"AF\"),\n",
    "    \"Corners\":       (\"HC\",   \"AC\"),\n",
    "    \"YellowCards\":   (\"HY\",   \"AY\"),\n",
    "    \"RedCards\":      (\"HR\",   \"AR\")\n",
    "}\n",
    "\n",
    "\n",
    "def create_date_stamp(date_string: str) -> int:\n",
    "    # Transforms a dd/mm/yy or dd/mm/yyyy string to a timestamp\n",
    "    if len(date_string.split(\"/\")[-1]) == 4:\n",
    "        return int(datetime.strptime(date_string, \"%d/%m/%Y\").timestamp())\n",
    "    else:\n",
    "        return int(datetime.strptime(date_string, \"%d/%m/%y\").timestamp())\n",
    "\n",
    "\n",
    "def group_seasons(df: pd.DataFrame) -> np.array:\n",
    "    # Adds a column to the df indicating which season it is\n",
    "    seasons = []\n",
    "    season_counter = 1\n",
    "    prev_season_index = 0\n",
    "    rows = df.iterrows()\n",
    "    next(rows)\n",
    "\n",
    "    for i, game in rows:\n",
    "        curr_game_month = int(game.Date[4])\n",
    "        prev_game_month = int(df.iloc[i - 1].Date[4])\n",
    "\n",
    "        if curr_game_month - prev_game_month > 1:\n",
    "            seasons += [season_counter]*(i - prev_season_index)\n",
    "            season_counter += 1\n",
    "            prev_season_index = i\n",
    "\n",
    "    return pd.DataFrame({\"Season\": seasons})\n",
    "\n",
    "\n",
    "def generate_gustas_points(df: pd.DataFrame) -> pd.DataFrame:\n",
    "    # Caluclate Gustas' points for each game\n",
    "    points = {\"HomePoints\": [0]*len(df), \"AwayPoints\": [0]*len(df)}\n",
    "    score_map = {\"H\": (3, 0), \"A\": (0, 3), \"D\": (1, 1)}\n",
    "\n",
    "    for i, (_, game) in enumerate(df.iterrows()):\n",
    "        points[\"HomePoints\"][i], points[\"AwayPoints\"][i] = score_map[game[\"FTR\"]]\n",
    "\n",
    "    return pd.DataFrame(points)\n",
    "\n",
    "\n",
    "# Generating game-specific data #\n",
    "\n",
    "\n",
    "def calculate_window_metrics_by_team(df: pd.DataFrame, n: int) -> pd.DataFrame:\n",
    "    # Calculates each metric for each team over the last n values\n",
    "    global METRICS\n",
    "\n",
    "    teams = df[\"HomeTeam\"].unique()\n",
    "    team_metric_deques = {t : {m : [0, deque([], maxlen=n)] for m in METRICS} for t in teams}\n",
    "    metrics_df = {}\n",
    "\n",
    "    # Fill columns\n",
    "    for metric in METRICS:\n",
    "        metrics_df[f\"HomeLNG{metric}\"] = []\n",
    "        metrics_df[f\"AwayLNG{metric}\"] = []\n",
    "\n",
    "    for _, game in df.iterrows():\n",
    "        home = game.HomeTeam\n",
    "        away = game.AwayTeam\n",
    "\n",
    "        for metric in METRICS:\n",
    "            home_metric, away_metric = METRICS[metric]\n",
    "\n",
    "            # Add existing data to df\n",
    "            home_metric_sum, home_deque = team_metric_deques[home][metric]\n",
    "            away_metric_sum, away_deque = team_metric_deques[away][metric]\n",
    "\n",
    "            if len(home_deque) == 0:\n",
    "                metrics_df[f\"HomeLNG{metric}\"].append(float(\"NaN\"))\n",
    "            else:\n",
    "                metrics_df[f\"HomeLNG{metric}\"].append(home_metric_sum / len(home_deque))\n",
    "\n",
    "            if len(away_deque) == 0:\n",
    "                metrics_df[f\"AwayLNG{metric}\"].append(float(\"NaN\"))\n",
    "            else:\n",
    "                metrics_df[f\"AwayLNG{metric}\"].append(away_metric_sum / len(away_deque))\n",
    "\n",
    "            # Include new data\n",
    "            if len(home_deque) == n:\n",
    "                team_metric_deques[home][metric][0] -= home_deque[0]\n",
    "            \n",
    "            if len(away_deque) == n:\n",
    "                team_metric_deques[away][metric][0] -= away_deque[0]\n",
    "\n",
    "            team_metric_deques[home][metric][0] += game[home_metric]\n",
    "            team_metric_deques[home][metric][1].append(game[home_metric])\n",
    "\n",
    "            team_metric_deques[away][metric][0] += game[away_metric]\n",
    "            team_metric_deques[away][metric][1].append(game[away_metric])\n",
    "\n",
    "    return pd.DataFrame(metrics_df)\n",
    "\n",
    "\n",
    "\n",
    "# Only the below function should be used directly #\n",
    "\n",
    "\n",
    "def format_df(df: pd.DataFrame) -> pd.DataFrame:\n",
    "    # Applies all feature engineering etc that one could want\n",
    "    df[\"DateStamp\"] = df[\"Date\"].map(create_date_stamp)\n",
    "    df = df.join(group_seasons(df))\n",
    "    df = df.join(generate_gustas_points(df))\n",
    "    df = df.join(calculate_window_metrics_by_team(df, 10))\n",
    "\n",
    "    return df\n",
    "    "
   ]
  },
  {
   "cell_type": "markdown",
   "metadata": {},
   "source": [
    "## Load training and testing data"
   ]
  },
  {
   "cell_type": "code",
   "execution_count": 18,
   "metadata": {},
   "outputs": [],
   "source": [
    "# Define features etc\n",
    "FEATURES = [\n",
    "    \"HomeTeam\",\n",
    "    \"AwayTeam\",\n",
    "    \"Referee\",\n",
    "    \"DateStamp\",\n",
    "    \"HomeLNGGoalsFullTime\",\n",
    "    \"HomeLNGGoalsHalfTime\",\n",
    "    \"HomeLNGGustasPoints\",\n",
    "    \"HomeLNGGoalShots\",\n",
    "    \"HomeLNGTargetShots\",\n",
    "    \"HomeLNGCorners\",\n",
    "    \"HomeLNGYellowCards\",\n",
    "    \"HomeLNGRedCards\",\n",
    "    \"AwayLNGGoalsFullTime\",\n",
    "    \"AwayLNGGoalsHalfTime\",\n",
    "    \"AwayLNGGustasPoints\",\n",
    "    \"AwayLNGGoalShots\",\n",
    "    \"AwayLNGTargetShots\",\n",
    "    \"AwayLNGCorners\",\n",
    "    \"AwayLNGYellowCards\",\n",
    "    \"AwayLNGRedCards\",\n",
    "]\n",
    "\n",
    "CATEGORICAL_FEATURES = [\"HomeTeam\", \"AwayTeam\", \"Referee\"]\n",
    "\n",
    "TARGET_NAMES = [\"A\", \"D\", \"H\"] # for presenting data\n",
    "\n",
    "\n",
    "# Load datasets\n",
    "df = format_df(pd.read_csv(\"data/epl-training.csv\").dropna())\n",
    "\n",
    "#df = df[df.Season > 1] #NOTE THIS AVOIDS PROBLEMS WITH NaN VALUES BEFORE THE FIRST N GAMES\n",
    "df.fillna(0, inplace=True)\n",
    "df[\"FTR\"] = df[\"FTR\"].astype(str)\n",
    "\n",
    "for ft in CATEGORICAL_FEATURES:\n",
    "    df[ft] = df[ft].astype(str)\n",
    "\n",
    "\n",
    "# Split X and y, training and testing\n",
    "\n",
    "X = df[FEATURES]\n",
    "y = df[\"FTR\"]\n",
    "\n",
    "X_train, X_test, y_train, y_test = train_test_split(X, y, test_size=0.2, random_state=42)\n",
    "\n",
    "# Preprocessing\n",
    "numerical_features = [f for f in FEATURES if f not in CATEGORICAL_FEATURES]\n",
    "preprocessor = ColumnTransformer(\n",
    "    transformers=[\n",
    "        ('num', StandardScaler(), numerical_features),\n",
    "        ('cat', OneHotEncoder(handle_unknown='ignore'), CATEGORICAL_FEATURES)\n",
    "    ])\n",
    "X_train = preprocessor.fit_transform(X_train)\n",
    "X_test = preprocessor.transform(X_test)"
   ]
  },
  {
   "cell_type": "markdown",
   "metadata": {},
   "source": [
    "## Create SVM model\n",
    "\n",
    "Specifically, we are going to fit our model to our data and then predict the testing results"
   ]
  },
  {
   "cell_type": "code",
   "execution_count": 19,
   "metadata": {},
   "outputs": [],
   "source": [
    "clf = SVC(probability=False)\n",
    "clf.fit(X=X_train, y=y_train)\n",
    "\n",
    "y_pred = clf.predict(X_test)"
   ]
  },
  {
   "cell_type": "markdown",
   "metadata": {},
   "source": [
    "## Get performance metrics\n",
    "\n",
    "We're going to print a classification report and print some graphs and charts now"
   ]
  },
  {
   "cell_type": "code",
   "execution_count": 20,
   "metadata": {},
   "outputs": [
    {
     "name": "stdout",
     "output_type": "stream",
     "text": [
      "              precision    recall  f1-score   support\n",
      "\n",
      "           A       0.58      0.41      0.48       516\n",
      "           D       0.20      0.00      0.01       460\n",
      "           H       0.51      0.89      0.65       792\n",
      "\n",
      "    accuracy                           0.52      1768\n",
      "   macro avg       0.43      0.43      0.38      1768\n",
      "weighted avg       0.45      0.52      0.43      1768\n",
      "\n"
     ]
    },
    {
     "data": {
      "image/png": "[encoded data removed]",
      "text/plain": [
       "<Figure size 640x480 with 2 Axes>"
      ]
     },
     "metadata": {},
     "output_type": "display_data"
    }
   ],
   "source": [
    "def evaluate_model(y_test, y_pred, target_names):\n",
    "    print(classification_report(y_test, y_pred, target_names=target_names))\n",
    "\n",
    "    ConfusionMatrixDisplay.from_predictions(y_test, y_pred, display_labels=target_names)\n",
    "    plt.tight_layout()\n",
    "    plt.show()\n",
    "\n",
    "\n",
    "evaluate_model(y_test, y_pred, TARGET_NAMES)"
   ]
  },
  {
   "cell_type": "markdown",
   "metadata": {},
   "source": [
    "## RNN\n",
    "\n",
    "#### a. Import stuff"
   ]
  },
  {
   "cell_type": "code",
   "execution_count": null,
   "metadata": {},
   "outputs": [],
   "source": [
    "import keras"
   ]
  },
  {
   "cell_type": "markdown",
   "metadata": {},
   "source": [
    "#### b. Transform data"
   ]
  },
  {
   "cell_type": "code",
   "execution_count": 42,
   "metadata": {},
   "outputs": [],
   "source": [
    "def create_team_df(df: pd.DataFrame, team: str) -> pd.DataFrame:\n",
    "    # Creates a dataframe for a given team\n",
    "    games_with_team = df[(df.HomeTeam == team) | (df.AwayTeam == team)]\n",
    "    team_df = games_with_team.drop(columns=[\"HomeTeam\", \"AwayTeam\"])\n",
    "\n",
    "    # Get opponents\n",
    "    opponents = []\n",
    "\n",
    "    for _, game in games_with_team.iterrows():\n",
    "        if game.HomeTeam == team:\n",
    "            opponents.append(game.AwayTeam)\n",
    "        else:\n",
    "            opponents.append(game.HomeTeam)\n",
    "\n",
    "    team_df[\"Opponent\"] = np.array(opponents)\n",
    "    team_df[\"HomeMatch\"] = games_with_team.HomeTeam.map(lambda t : t == team)\n",
    "\n",
    "    return team_df\n",
    "\n",
    "\n",
    "def get_team_dfs(df: pd.DataFrame) -> {str : pd.DataFrame}:\n",
    "    # Gets a dataframe of matches for each team\n",
    "    team_dfs = {}\n",
    "\n",
    "    for team in df.HomeTeam.unique():\n",
    "        team_dfs[team] = create_team_df(df, team)\n",
    "\n",
    "    return team_dfs"
   ]
  },
  {
   "cell_type": "markdown",
   "metadata": {},
   "source": [
    "#### c. Do the RNN"
   ]
  },
  {
   "cell_type": "code",
   "execution_count": 45,
   "metadata": {},
   "outputs": [],
   "source": [
    "team_dfs = get_team_dfs(df)"
   ]
  },
  {
   "cell_type": "markdown",
   "metadata": {},
   "source": [
    "## Other models\n",
    "\n",
    "I'm going to try the data on a bunch of new models including:\n",
    "- random forest\n",
    "- logistic regression\n",
    "- various neural networks"
   ]
  },
  {
   "cell_type": "code",
   "execution_count": 7,
   "metadata": {},
   "outputs": [
    {
     "name": "stderr",
     "output_type": "stream",
     "text": [
      "2023-12-11 16:59:04.531335: E external/local_xla/xla/stream_executor/cuda/cuda_driver.cc:274] failed call to cuInit: CUDA_ERROR_NO_DEVICE: no CUDA-capable device is detected\n"
     ]
    },
    {
     "name": "stdout",
     "output_type": "stream",
     "text": [
      "Epoch 1/50\n",
      "124/124 [==============================] - 2s 5ms/step - loss: 1.2128 - accuracy: 0.3882\n",
      "Epoch 2/50\n",
      "124/124 [==============================] - 1s 4ms/step - loss: 1.0880 - accuracy: 0.4342\n",
      "Epoch 3/50\n",
      "124/124 [==============================] - 1s 4ms/step - loss: 1.0593 - accuracy: 0.4643\n",
      "Epoch 4/50\n",
      "124/124 [==============================] - 1s 4ms/step - loss: 1.0458 - accuracy: 0.4727\n",
      "Epoch 5/50\n",
      "124/124 [==============================] - 0s 4ms/step - loss: 1.0400 - accuracy: 0.4790\n",
      "Epoch 6/50\n",
      "124/124 [==============================] - 1s 4ms/step - loss: 1.0333 - accuracy: 0.4868\n",
      "Epoch 7/50\n",
      "124/124 [==============================] - 0s 4ms/step - loss: 1.0292 - accuracy: 0.4896\n",
      "Epoch 8/50\n",
      "124/124 [==============================] - 0s 3ms/step - loss: 1.0269 - accuracy: 0.4916\n",
      "Epoch 9/50\n",
      "124/124 [==============================] - 1s 4ms/step - loss: 1.0239 - accuracy: 0.5061\n",
      "Epoch 10/50\n",
      "124/124 [==============================] - 1s 4ms/step - loss: 1.0122 - accuracy: 0.5033\n",
      "Epoch 11/50\n",
      "124/124 [==============================] - 1s 4ms/step - loss: 1.0119 - accuracy: 0.5035\n",
      "Epoch 12/50\n",
      "124/124 [==============================] - 1s 4ms/step - loss: 1.0061 - accuracy: 0.5144\n",
      "Epoch 13/50\n",
      "124/124 [==============================] - 0s 4ms/step - loss: 1.0052 - accuracy: 0.5172\n",
      "Epoch 14/50\n",
      "124/124 [==============================] - 0s 4ms/step - loss: 1.0014 - accuracy: 0.5121\n",
      "Epoch 15/50\n",
      "124/124 [==============================] - 0s 4ms/step - loss: 0.9915 - accuracy: 0.5187\n",
      "Epoch 16/50\n",
      "124/124 [==============================] - 0s 4ms/step - loss: 0.9955 - accuracy: 0.5164\n",
      "Epoch 17/50\n",
      "124/124 [==============================] - 1s 5ms/step - loss: 0.9868 - accuracy: 0.5271\n",
      "Epoch 18/50\n",
      "124/124 [==============================] - 1s 4ms/step - loss: 0.9872 - accuracy: 0.5207\n",
      "Epoch 19/50\n",
      "124/124 [==============================] - 1s 5ms/step - loss: 0.9854 - accuracy: 0.5230\n",
      "Epoch 20/50\n",
      "124/124 [==============================] - 1s 4ms/step - loss: 0.9850 - accuracy: 0.5248\n",
      "Epoch 21/50\n",
      "124/124 [==============================] - 1s 4ms/step - loss: 0.9797 - accuracy: 0.5251\n",
      "Epoch 22/50\n",
      "124/124 [==============================] - 1s 5ms/step - loss: 0.9664 - accuracy: 0.5334\n",
      "Epoch 23/50\n",
      "124/124 [==============================] - 1s 7ms/step - loss: 0.9671 - accuracy: 0.5362\n",
      "Epoch 24/50\n",
      "124/124 [==============================] - 1s 5ms/step - loss: 0.9639 - accuracy: 0.5385\n",
      "Epoch 25/50\n",
      "124/124 [==============================] - 1s 5ms/step - loss: 0.9708 - accuracy: 0.5321\n",
      "Epoch 26/50\n",
      "124/124 [==============================] - 1s 4ms/step - loss: 0.9535 - accuracy: 0.5445\n",
      "Epoch 27/50\n",
      "124/124 [==============================] - 0s 3ms/step - loss: 0.9540 - accuracy: 0.5397\n",
      "Epoch 28/50\n",
      "124/124 [==============================] - 0s 3ms/step - loss: 0.9618 - accuracy: 0.5362\n",
      "Epoch 29/50\n",
      "124/124 [==============================] - 0s 4ms/step - loss: 0.9551 - accuracy: 0.5367\n",
      "Epoch 30/50\n",
      "124/124 [==============================] - 1s 4ms/step - loss: 0.9408 - accuracy: 0.5493\n",
      "Epoch 31/50\n",
      "124/124 [==============================] - 0s 4ms/step - loss: 0.9334 - accuracy: 0.5615\n",
      "Epoch 32/50\n",
      "124/124 [==============================] - 1s 5ms/step - loss: 0.9319 - accuracy: 0.5635\n",
      "Epoch 33/50\n",
      "124/124 [==============================] - 1s 4ms/step - loss: 0.9340 - accuracy: 0.5681\n",
      "Epoch 34/50\n",
      "124/124 [==============================] - 1s 7ms/step - loss: 0.9232 - accuracy: 0.5625\n",
      "Epoch 35/50\n",
      "124/124 [==============================] - 0s 4ms/step - loss: 0.9266 - accuracy: 0.5658\n",
      "Epoch 36/50\n",
      "124/124 [==============================] - 0s 3ms/step - loss: 0.9166 - accuracy: 0.5643\n",
      "Epoch 37/50\n",
      "124/124 [==============================] - 0s 3ms/step - loss: 0.9074 - accuracy: 0.5762\n",
      "Epoch 38/50\n",
      "124/124 [==============================] - 0s 3ms/step - loss: 0.9028 - accuracy: 0.5749\n",
      "Epoch 39/50\n",
      "124/124 [==============================] - 0s 3ms/step - loss: 0.9031 - accuracy: 0.5779\n",
      "Epoch 40/50\n",
      "124/124 [==============================] - 1s 4ms/step - loss: 0.8971 - accuracy: 0.5817\n",
      "Epoch 41/50\n",
      "124/124 [==============================] - 0s 4ms/step - loss: 0.8935 - accuracy: 0.5876\n",
      "Epoch 42/50\n",
      "124/124 [==============================] - 0s 3ms/step - loss: 0.8995 - accuracy: 0.5759\n",
      "Epoch 43/50\n",
      "124/124 [==============================] - 1s 4ms/step - loss: 0.8955 - accuracy: 0.5865\n",
      "Epoch 44/50\n",
      "124/124 [==============================] - 0s 3ms/step - loss: 0.8644 - accuracy: 0.5982\n",
      "Epoch 45/50\n",
      "124/124 [==============================] - 0s 3ms/step - loss: 0.8715 - accuracy: 0.6020\n",
      "Epoch 46/50\n",
      "124/124 [==============================] - 0s 3ms/step - loss: 0.8598 - accuracy: 0.6035\n",
      "Epoch 47/50\n",
      "124/124 [==============================] - 0s 3ms/step - loss: 0.8687 - accuracy: 0.6101\n",
      "Epoch 48/50\n",
      "124/124 [==============================] - 0s 4ms/step - loss: 0.8532 - accuracy: 0.6070\n",
      "Epoch 49/50\n",
      "124/124 [==============================] - 0s 3ms/step - loss: 0.8476 - accuracy: 0.6070\n",
      "Epoch 50/50\n",
      "124/124 [==============================] - 0s 3ms/step - loss: 0.8374 - accuracy: 0.6063\n",
      "31/31 [==============================] - 0s 2ms/step\n"
     ]
    }
   ],
   "source": [
    "# from sklearn.ensemble import RandomForestClassifier\n",
    "# from sklearn.linear_model import LogisticRegression\n",
    "# \n",
    "# \n",
    "# rfc = RandomForestClassifier(max_depth=3, random_state=42)\n",
    "# rfc.fit(X=X_train, y=y_train)\n",
    "# rfc_y_pred = rfc.predict(X_test)\n",
    "# evaluate_model(y_test, rfc_y_pred, TARGET_NAMES)\n",
    "# \n",
    "# \n",
    "# lgr = LogisticRegression(random_state=42)\n",
    "# lgr.fit(X=X_train, y=y_train)\n",
    "# lgr_y_pred = lgr.predict(X_test)\n",
    "# evaluate_model(y_test, lgr_y_pred, TARGET_NAMES)\n",
    "\n",
    "# Neural network nonsense\n",
    "\n",
    "from keras.models import Sequential\n",
    "from keras.layers import Dense, Dropout\n",
    "from keras.utils import to_categorical\n",
    "\n",
    "n_classes = 3\n",
    "\n",
    "# Transform y format\n",
    "le = LabelEncoder()\n",
    "le.fit(TARGET_NAMES)\n",
    "\n",
    "nn_y_train = to_categorical(le.fit_transform(y_train), num_classes=3)\n",
    "nn_y_test = to_categorical(le.fit_transform(y_test), num_classes=3)\n",
    "\n",
    "# Define the model\n",
    "model = Sequential()\n",
    "model.add(Dense(256, input_dim=X_train.shape[1], activation='relu'))\n",
    "model.add(Dropout(0.7))\n",
    "model.add(Dense(128, activation='relu'))\n",
    "model.add(Dropout(0.7))\n",
    "model.add(Dense(64, activation='relu'))\n",
    "model.add(Dropout(0.7))\n",
    "model.add(Dense(n_classes, activation='softmax'))  # Output layer\n",
    "\n",
    "# Compile the model\n",
    "model.compile(loss='categorical_crossentropy', optimizer='adam', metrics=['accuracy'])\n",
    "\n",
    "# Train the model\n",
    "model.fit(X_train, nn_y_train, epochs=50, batch_size=32, use_multiprocessing=True) #, validation_data=(X_test, y_test))\n",
    "nn_y_pred = model.predict(X_test)\n",
    "\n",
    "# Evaluate the model\n",
    "predicted_label_indices = np.argmax(nn_y_pred, axis=1)\n",
    "predicted_labels = le.inverse_transform(predicted_label_indices)"
   ]
  },
  {
   "cell_type": "markdown",
   "metadata": {},
   "source": [
    "### And now we evaluate the above model"
   ]
  },
  {
   "cell_type": "code",
   "execution_count": 8,
   "metadata": {},
   "outputs": [
    {
     "name": "stdout",
     "output_type": "stream",
     "text": [
      "              precision    recall  f1-score   support\n",
      "\n",
      "           A       0.40      0.55      0.47       278\n",
      "           D       0.00      0.00      0.00       249\n",
      "           H       0.55      0.72      0.62       461\n",
      "\n",
      "    accuracy                           0.49       988\n",
      "   macro avg       0.32      0.43      0.36       988\n",
      "weighted avg       0.37      0.49      0.42       988\n",
      "\n"
     ]
    },
    {
     "name": "stderr",
     "output_type": "stream",
     "text": [
      "/home/conrad/UCL/Modules/COMP0036-ML/Coursework/.venv/lib/python3.11/site-packages/sklearn/metrics/_classification.py:1471: UndefinedMetricWarning: Precision and F-score are ill-defined and being set to 0.0 in labels with no predicted samples. Use `zero_division` parameter to control this behavior.\n",
      "  _warn_prf(average, modifier, msg_start, len(result))\n",
      "/home/conrad/UCL/Modules/COMP0036-ML/Coursework/.venv/lib/python3.11/site-packages/sklearn/metrics/_classification.py:1471: UndefinedMetricWarning: Precision and F-score are ill-defined and being set to 0.0 in labels with no predicted samples. Use `zero_division` parameter to control this behavior.\n",
      "  _warn_prf(average, modifier, msg_start, len(result))\n",
      "/home/conrad/UCL/Modules/COMP0036-ML/Coursework/.venv/lib/python3.11/site-packages/sklearn/metrics/_classification.py:1471: UndefinedMetricWarning: Precision and F-score are ill-defined and being set to 0.0 in labels with no predicted samples. Use `zero_division` parameter to control this behavior.\n",
      "  _warn_prf(average, modifier, msg_start, len(result))\n"
     ]
    },
    {
     "data": {
      "image/png": "[encoded data removed]",
      "text/plain": [
       "<Figure size 640x480 with 2 Axes>"
      ]
     },
     "metadata": {},
     "output_type": "display_data"
    }
   ],
   "source": [
    "evaluate_model(y_test, predicted_labels, TARGET_NAMES)"
   ]
  }
 ],
 "metadata": {
  "kernelspec": {
   "display_name": "venv",
   "language": "python",
   "name": "python3"
  },
  "language_info": {
   "codemirror_mode": {
    "name": "ipython",
    "version": 3
   },
   "file_extension": ".py",
   "mimetype": "text/x-python",
   "name": "python",
   "nbconvert_exporter": "python",
   "pygments_lexer": "ipython3",
   "version": "3.11.0rc1"
  }
 },
 "nbformat": 4,
 "nbformat_minor": 2
}
